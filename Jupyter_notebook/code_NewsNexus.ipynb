{
 "cells": [
  {
   "cell_type": "code",
   "execution_count": 1,
   "id": "0d4f2736-2a40-43e0-997d-1e0e4943bc21",
   "metadata": {},
   "outputs": [],
   "source": [
    "import pandas as pd\n",
    "\n",
    "pol_real =pd.read_csv(\"politifact_real.csv\")\n",
    "pol_fake =pd.read_csv(\"politifact_fake.csv\")\n",
    "gossip_fake =pd.read_csv(\"gossipcop_fake.csv\")\n",
    "gossip_real =pd.read_csv(\"gossipcop_real.csv\")"
   ]
  },
  {
   "cell_type": "code",
   "execution_count": 4,
   "id": "48ecd3e8-5b2e-4df4-a844-1f98f4cb69d6",
   "metadata": {},
   "outputs": [],
   "source": [
    "# now we add labels\n",
    "\n",
    "pol_real[\"label\"] =\"real\"\n",
    "pol_fake[\"label\"] =\"fake\"\n",
    "gossip_fake[\"label\"] =\"fake\"\n",
    "gossip_real[\"label\"] =\"real\"\n",
    "\n",
    "#now we will combine dataset\n",
    "\n",
    "combine_data =pd.concat([pol_real, pol_fake, gossip_fake, gossip_real], ignore_index =True) "
   ]
  },
  {
   "cell_type": "code",
   "execution_count": 5,
   "id": "3978bc62-41f0-48f0-951a-988d1da40b50",
   "metadata": {},
   "outputs": [
    {
     "name": "stdout",
     "output_type": "stream",
     "text": [
      "<class 'pandas.core.frame.DataFrame'>\n",
      "RangeIndex: 23196 entries, 0 to 23195\n",
      "Data columns (total 5 columns):\n",
      " #   Column     Non-Null Count  Dtype \n",
      "---  ------     --------------  ----- \n",
      " 0   id         23196 non-null  object\n",
      " 1   news_url   22866 non-null  object\n",
      " 2   title      23196 non-null  object\n",
      " 3   tweet_ids  21695 non-null  object\n",
      " 4   label      23196 non-null  object\n",
      "dtypes: object(5)\n",
      "memory usage: 906.2+ KB\n",
      "None\n"
     ]
    }
   ],
   "source": [
    "print(combine_data.info())\n",
    "#print(combine_data.head())"
   ]
  },
  {
   "cell_type": "code",
   "execution_count": 6,
   "id": "749542ff-a3f2-4fcd-8097-9c1d524ed3c9",
   "metadata": {},
   "outputs": [
    {
     "name": "stdout",
     "output_type": "stream",
     "text": [
      "label\n",
      "real    17441\n",
      "fake     5755\n",
      "Name: count, dtype: int64\n"
     ]
    }
   ],
   "source": [
    "print(combine_data['label'].value_counts())   # checking the count of real and fake label in the data"
   ]
  },
  {
   "cell_type": "code",
   "execution_count": 7,
   "id": "787a52f5-27c8-49fb-a9ed-d27107a033f8",
   "metadata": {},
   "outputs": [
    {
     "name": "stdout",
     "output_type": "stream",
     "text": [
      "Index(['id', 'news_url', 'title', 'tweet_ids', 'label'], dtype='object')\n"
     ]
    }
   ],
   "source": [
    "print(combine_data.columns)  # checking the coloumns in the data"
   ]
  },
  {
   "cell_type": "code",
   "execution_count": 8,
   "id": "2a876f93-a79a-4fec-8c39-1c5c22273346",
   "metadata": {},
   "outputs": [
    {
     "name": "stderr",
     "output_type": "stream",
     "text": [
      "[nltk_data] Downloading package stopwords to\n",
      "[nltk_data]     C:\\Users\\12348\\AppData\\Roaming\\nltk_data...\n",
      "[nltk_data]   Package stopwords is already up-to-date!\n",
      "[nltk_data] Downloading package punkt to\n",
      "[nltk_data]     C:\\Users\\12348\\AppData\\Roaming\\nltk_data...\n",
      "[nltk_data]   Package punkt is already up-to-date!\n"
     ]
    }
   ],
   "source": [
    "import nltk\n",
    "nltk.download('stopwords')\n",
    "nltk.download('punkt') \n",
    "from nltk.tokenize import word_tokenize"
   ]
  },
  {
   "cell_type": "code",
   "execution_count": 9,
   "id": "be88be41-cc3a-40ef-a226-6d7ea348d3b0",
   "metadata": {},
   "outputs": [],
   "source": [
    "import re   # here we have imported a regular expression library\n",
    "from nltk.corpus import stopwords  # stopwords from natural language tool kit\n",
    "stop_words =set(stopwords.words(\"english\"))    #load set of stop_words and convert into set\n",
    "\n",
    "def preprocess_text(text):\n",
    "    text =re.sub(r'[^\\w\\s]', '', text.lower())    # Remove special characters\n",
    "    tokens =[word for word in text.split() if word not in stop_words]       #filter out stopwords\n",
    "    return \" \".join(tokens)\n",
    "\n",
    "combine_data[\"cleaned_title\"] =combine_data[\"title\"].apply(preprocess_text)    # create new coloumn for preprocessed data"
   ]
  },
  {
   "cell_type": "code",
   "execution_count": 10,
   "id": "228fa5bd-d6ef-40dd-aa1b-121ed3ef31a9",
   "metadata": {},
   "outputs": [],
   "source": [
    "from sklearn.feature_extraction.text import TfidfVectorizer      \n",
    "vectorizer =TfidfVectorizer(max_features =5000)\n",
    "tfid =vectorizer.fit_transform(combine_data[\"cleaned_title\"]) # converted clean text into numerical features"
   ]
  },
  {
   "cell_type": "code",
   "execution_count": 11,
   "id": "1b50856b-0d6e-4f2f-b9ac-a04e4077ef96",
   "metadata": {},
   "outputs": [],
   "source": [
    "import spacy\n",
    "\n",
    "# Load spaCy model\n",
    "nlp = spacy.load(\"en_core_web_sm\")\n",
    "\n",
    "def extract_entities(text):\n",
    "    doc = nlp(text)\n",
    "    entities = [(ent.text, ent.label_) for ent in doc.ents]\n",
    "    return entities\n",
    "\n",
    "combine_data[\"entities\"] = combine_data[\"cleaned_title\"].apply(extract_entities)\n"
   ]
  },
  {
   "cell_type": "code",
   "execution_count": 12,
   "id": "aaa23ae8-814b-406e-9ffc-69b2c9f5119e",
   "metadata": {},
   "outputs": [],
   "source": [
    "def count_entity_types(entities, entity_type):\n",
    "    return sum(1 for _, label in entities if label == entity_type)\n",
    "\n",
    "combine_data[\"num_persons\"] = combine_data[\"entities\"].apply(lambda x: count_entity_types(x, \"PERSON\"))\n",
    "combine_data[\"num_orgs\"] = combine_data[\"entities\"].apply(lambda x: count_entity_types(x, \"ORG\"))\n",
    "combine_data[\"num_places\"] = combine_data[\"entities\"].apply(lambda x: count_entity_types(x, \"GPE\"))\n"
   ]
  },
  {
   "cell_type": "code",
   "execution_count": 13,
   "id": "b8dd654b-21c4-4b31-8bdc-2dc2ebf9f38b",
   "metadata": {},
   "outputs": [],
   "source": [
    "def unique_entities(entities):\n",
    "    return len(set([text for text, _ in entities]))\n",
    "\n",
    "combine_data[\"unique_entities\"] = combine_data[\"entities\"].apply(unique_entities)\n"
   ]
  },
  {
   "cell_type": "code",
   "execution_count": 14,
   "id": "47b480d1-478b-4e73-bd1e-2be1c84f36ec",
   "metadata": {},
   "outputs": [],
   "source": [
    "from sklearn.preprocessing import LabelEncoder\n",
    "\n",
    "# Initialize LabelEncoder\n",
    "label_encoder = LabelEncoder()\n",
    "\n",
    "# Encode the target column\n",
    "combine_data[\"label\"] = label_encoder.fit_transform(combine_data[\"label\"])\n"
   ]
  },
  {
   "cell_type": "code",
   "execution_count": 15,
   "id": "a0f05672-a878-4568-90de-a01666b0ff29",
   "metadata": {},
   "outputs": [],
   "source": [
    "from sklearn.preprocessing import StandardScaler\n",
    "\n",
    "scaler = StandardScaler()\n",
    "scaled_features = scaler.fit_transform(combine_data[[\"num_persons\", \"num_orgs\", \"num_places\", \"unique_entities\"]])\n",
    "combine_data[[\"num_persons\", \"num_orgs\", \"num_places\", \"unique_entities\"]] = scaled_features\n"
   ]
  },
  {
   "cell_type": "code",
   "execution_count": 16,
   "id": "eba331b7-2ba4-4c59-b0f8-d08c14fa0216",
   "metadata": {},
   "outputs": [
    {
     "name": "stdout",
     "output_type": "stream",
     "text": [
      "MSE: 0.18213751911344844\n"
     ]
    }
   ],
   "source": [
    "from sklearn.ensemble import RandomForestRegressor\n",
    "from sklearn.model_selection import train_test_split\n",
    "from sklearn.metrics import mean_squared_error\n",
    "\n",
    "# Split data\n",
    "features = combine_data[[\"num_persons\", \"num_orgs\", \"num_places\", \"unique_entities\"]]\n",
    "target = combine_data[\"label\"]  # Replace with your actual target column\n",
    "X_train, X_test, y_train, y_test = train_test_split(features, target, test_size=0.2, random_state=42)\n",
    "\n",
    "# Train model\n",
    "model = RandomForestRegressor()\n",
    "model.fit(X_train, y_train)\n",
    "\n",
    "# Evaluate\n",
    "y_pred = model.predict(X_test)\n",
    "print(\"MSE:\", mean_squared_error(y_test, y_pred))\n"
   ]
  },
  {
   "cell_type": "code",
   "execution_count": null,
   "id": "0c81ecb8-9791-4551-9e03-3416f5306a79",
   "metadata": {},
   "outputs": [],
   "source": []
  }
 ],
 "metadata": {
  "kernelspec": {
   "display_name": "Python 3 (ipykernel)",
   "language": "python",
   "name": "python3"
  },
  "language_info": {
   "codemirror_mode": {
    "name": "ipython",
    "version": 3
   },
   "file_extension": ".py",
   "mimetype": "text/x-python",
   "name": "python",
   "nbconvert_exporter": "python",
   "pygments_lexer": "ipython3",
   "version": "3.12.1"
  }
 },
 "nbformat": 4,
 "nbformat_minor": 5
}
